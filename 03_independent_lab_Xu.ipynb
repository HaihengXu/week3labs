{
 "cells": [
  {
   "cell_type": "markdown",
   "id": "e830b811-e353-4d4d-9a56-d845f0e44320",
   "metadata": {},
   "source": [
    "UM MSBA - BGEN 632 | Haiheng Xu\n",
    "\n",
    "# Week3 Independent Lab: Building logic for a self-service kiosk\n",
    "\n",
    "---\n",
    "\n",
    "## Welcome to my Kiosk Building lab\n"
   ]
  },
  {
   "cell_type": "markdown",
   "id": "12a84749-1c71-4f0e-8204-383bebd82f26",
   "metadata": {},
   "source": [
    "Welcome! This kiosk sells graphics cards for your PC.\n",
    "Please place your order by selecting the product and subsequently providing the quantity desired.\n",
    "\n",
    "Here are the GPU options:"
   ]
  },
  {
   "cell_type": "markdown",
   "id": "40b84878-2bc6-48fc-b3e3-fb9d8f026762",
   "metadata": {},
   "source": [
    "| Item              | Product ID | Price(in $) |\n",
    "| :---------------- | :------: | ----: |\n",
    "| AMD - 9070        |   1   | 549.00 |\n",
    "| AMD - 9070XT           |   2   | 599.00 |\n",
    "| NVDIA - 5080    |  3   | 999.00 |\n",
    "| NVDIA - 5070Ti |  4   | 749.00 |\n",
    "| NVDIA - 5070 |  5   | 549.00 |\n",
    "\n"
   ]
  },
  {
   "cell_type": "markdown",
   "id": "7605d60b-ccf2-4146-af34-499e1f218ccf",
   "metadata": {},
   "source": [
    "#### Build a product dictionary "
   ]
  },
  {
   "cell_type": "code",
   "execution_count": 35,
   "id": "6dba81d5-6aa0-49fa-a67e-11bdc86c19da",
   "metadata": {},
   "outputs": [],
   "source": [
    "# Assigning the products to the product number, I think a better way to do it is to create a dictionary because it would be less complicated to input\n",
    "# the products and easier to read.\n",
    "products = {\n",
    "    1: {'ProductID': '1','Item': '9070', 'price': 549.00},\n",
    "    2: {'ProductID': '2','Item': '9070XT', 'price': 599.00},\n",
    "    3: {'ProductID': '3','Item': '5080', 'price': 999.00},\n",
    "    4: {'ProductID': '4','Item': '5070Ti', 'price': 749.00},\n",
    "    5: {'ProductID': '5','Item': '5070', 'price': 549.00},\n",
    "}\n"
   ]
  },
  {
   "cell_type": "markdown",
   "id": "30d9c266-1456-4421-804f-7a73817bffce",
   "metadata": {},
   "source": [
    "#### Using Infinite Loop "
   ]
  },
  {
   "cell_type": "code",
   "execution_count": 42,
   "id": "666ff70b-7c5e-4fb1-83cc-17ef1adf863c",
   "metadata": {},
   "outputs": [
    {
     "name": "stdout",
     "output_type": "stream",
     "text": [
      "GPU SHOP:\n",
      "ID: 1 | 9070 | $549.0\n",
      "ID: 2 | 9070XT | $599.0\n",
      "ID: 3 | 5080 | $999.0\n",
      "ID: 4 | 5070Ti | $749.0\n",
      "ID: 5 | 5070 | $549.0\n"
     ]
    },
    {
     "name": "stdin",
     "output_type": "stream",
     "text": [
      "\n",
      "Enter product ID to buy (Q to quit):  3\n",
      "How many 5080 do you want to purchase?  2\n",
      "\n",
      "Enter product ID to buy (Q to quit):  q\n"
     ]
    },
    {
     "name": "stdout",
     "output_type": "stream",
     "text": [
      "\n",
      "YOU ORDERED:\n",
      "2 x 5080 = $1998.0\n",
      "\n",
      "TOTAL: $1998.0\n"
     ]
    }
   ],
   "source": [
    "\n",
    "cart = {}\n",
    "total = 0\n",
    "\n",
    "# Show products\n",
    "print(\"GPU SHOP:\")\n",
    "for productid, item in products.items():\n",
    "    print(f\"ID: {productid} | {item['Item']} | ${item['price']}\")\n",
    "\n",
    "# Shopping loop\n",
    "while True:\n",
    "    choice = input(\"\\nEnter product ID to buy (Q to quit): \").upper()\n",
    "    # Exit loop \n",
    "    if choice == 'Q':\n",
    "        break\n",
    "\n",
    "# Record the order info\n",
    "\n",
    "    # Record the product by ID\n",
    "    if choice.isdigit():\n",
    "        productid = int(choice)\n",
    "\n",
    "        # Ask for quantity\n",
    "        if productid in products:\n",
    "            quantity = input(f\"How many {products[productid]['Item']} do you want to purchase? \")\n",
    "\n",
    "            # Record the quantity and calculate the price\n",
    "            if quantity.isdigit() and int(quantity) > 0:\n",
    "                quantity = int(quantity)\n",
    "                cart[productid] = cart.get(productid, 0) + quantity\n",
    "                total += products[productid]['price'] * quantity\n",
    "\n",
    "\n",
    "# Show results\n",
    "print(\"\\nYOU ORDERED:\")\n",
    "for productid, quantity in cart.items():\n",
    "    product = products[productid]\n",
    "    print(f\"{quantity} x {product['Item']} = ${product['price'] * quantity}\")\n",
    "\n",
    "print(f\"\\nTOTAL: ${total}\")\n",
    "                            "
   ]
  },
  {
   "cell_type": "markdown",
   "id": "df2bade3-f59b-48cc-a423-ddb020c0c527",
   "metadata": {},
   "source": [
    "### References\n",
    "\n",
    "ChatGPT screenshot in the file\n",
    "\n",
    "Codecademy. (n.d.). Markdown tables. https://www.codecademy.com/resources/docs/markdown/tables\n",
    "\n",
    "Python Dictionary items(). https://www.programiz.com/python-programming/methods/dictionary/items\n",
    "\n",
    "Python shopping cart with only outer while loop. (2023, February 2). Stack Overflow. https://stackoverflow.com/questions/75343373/python-shopping-cart-with-only-outer-while-loop\n",
    "\n",
    "I rewrite my code inspired by this video:Python shopping cart program 🛒 https://www.youtube.com/watch?v=kbyHLU9JqjE"
   ]
  }
 ],
 "metadata": {
  "kernelspec": {
   "display_name": "Python [conda env:base] *",
   "language": "python",
   "name": "conda-base-py"
  },
  "language_info": {
   "codemirror_mode": {
    "name": "ipython",
    "version": 3
   },
   "file_extension": ".py",
   "mimetype": "text/x-python",
   "name": "python",
   "nbconvert_exporter": "python",
   "pygments_lexer": "ipython3",
   "version": "3.12.7"
  }
 },
 "nbformat": 4,
 "nbformat_minor": 5
}
