{
 "cells": [
  {
   "cell_type": "markdown",
   "id": "e830b811-e353-4d4d-9a56-d845f0e44320",
   "metadata": {},
   "source": [
    "UM MSBA - BGEN 632 | Haiheng Xu\n",
    "\n",
    "# Week3 Independent Lab: Building logic for a self-service kiosk\n",
    "\n",
    "---\n",
    "\n",
    "## Welcome to my Kiosk Building lab\n"
   ]
  },
  {
   "cell_type": "markdown",
   "id": "12a84749-1c71-4f0e-8204-383bebd82f26",
   "metadata": {},
   "source": [
    "Welcome! This kiosk sells graphics cards for your PC.\n",
    "Please place your order by selecting the product and subsequently providing the quantity desired.\n",
    "\n",
    "Here are the GPU options:"
   ]
  },
  {
   "cell_type": "markdown",
   "id": "40b84878-2bc6-48fc-b3e3-fb9d8f026762",
   "metadata": {},
   "source": [
    "| Item              | Product ID | Price(in $) |\n",
    "| :---------------- | :------: | ----: |\n",
    "| AMD - 9070        |   1   | 549.00 |\n",
    "| AMD - 9070XT           |   2   | 599.00 |\n",
    "| NVDIA - 5080    |  3   | 999.00 |\n",
    "| NVDIA - 5070Ti |  4   | 749.00 |\n",
    "| NVDIA - 5070 |  5   | 549.00 |\n",
    "\n"
   ]
  },
  {
   "cell_type": "code",
   "execution_count": 4,
   "id": "6dba81d5-6aa0-49fa-a67e-11bdc86c19da",
   "metadata": {},
   "outputs": [],
   "source": [
    "#Assigning the products to the product number, I think a better way to do it is to create a dictionary.\n",
    "products = {\n",
    "    1: {'ProductID': '1','Item': '9070', 'price': 549.00},\n",
    "    2: {'ProductID': '2','Item': '9070XT', 'price': 599.00},\n",
    "    3: {'ProductID': '3','Item': '5080', 'price': 999.00},\n",
    "    4: {'ProductID': '4','Item': '5070Ti', 'price': 749.00},\n",
    "    5: {'ProductID': '5','Item': '5070', 'price': 549.00},\n",
    "}\n"
   ]
  },
  {
   "cell_type": "markdown",
   "id": "30d9c266-1456-4421-804f-7a73817bffce",
   "metadata": {},
   "source": [
    "#### Using Infinite Loop "
   ]
  },
  {
   "cell_type": "code",
   "execution_count": 6,
   "id": "65eab326-e96c-445f-b57c-d774aa076d12",
   "metadata": {},
   "outputs": [
    {
     "name": "stdout",
     "output_type": "stream",
     "text": [
      "\n",
      "Available products:\n",
      "1: 9070 - $549.0\n",
      "2: 9070XT - $599.0\n",
      "3: 5080 - $999.0\n",
      "4: 5070Ti - $749.0\n",
      "5: 5070 - $549.0\n"
     ]
    },
    {
     "name": "stdin",
     "output_type": "stream",
     "text": [
      "Enter product ID to buy (Input Exit to checkout):  Exit\n"
     ]
    },
    {
     "name": "stdout",
     "output_type": "stream",
     "text": [
      "Cart is empty.\n"
     ]
    }
   ],
   "source": [
    "# Set up the total price\n",
    "total_price = 0  \n",
    "\n",
    "# Begin the loop\n",
    "while True:\n",
    "    # Show the selections\n",
    "    print(\"\\nAvailable products:\")\n",
    "    for ProductID, Item in products.items():\n",
    "        print(f\"{ProductID}: {Item['Item']} - ${Item['price']}\")\n",
    "           \n",
    "    # Ask for product id and provide instruction for exit\n",
    "    selected_id = input(\"Enter product ID to buy (Input Exit to checkout): \")\n",
    "    if selected_id == \"Exit\":\n",
    "        break  # Exit loop for checkout\n",
    "        \n",
    "    # If user selected a valid productid then ask for quantity\n",
    "    if selected_id.isdigit() and int(selected_id) in products:\n",
    "        selected_id = int(selected_id)\n",
    "        quantity = input(\"Enter quantity: \")\n",
    "        \n",
    "    # If user selected a valid quantity then calculate the total price and loop again\n",
    "        if quantity.isdigit():\n",
    "            quantity = int(quantity)\n",
    "            item_total = products[selected_id]['price'] * quantity\n",
    "            total_price += item_total\n",
    "            print(f\"You just added: {quantity} piece of {details['Item']} graphics card to your cart for  ${quantity * details['price']}\")\n",
    "             \n",
    "            # If user didn't input a valid quantity show error\n",
    "        else:\n",
    "            print(\"Invalid quantity. Try again.\")\n",
    "            \n",
    "    # If user didn't input a valid productid show error\n",
    "    else:\n",
    "        print(\"Invalid product ID. Try again.\")\n",
    "        \n",
    "# Show the final amount\n",
    "print(f\"\\nYour Total Price is: ${total_price}\" if total_price > 0 else \"Cart is empty.\")\n"
   ]
  },
  {
   "cell_type": "markdown",
   "id": "df2bade3-f59b-48cc-a423-ddb020c0c527",
   "metadata": {},
   "source": [
    "### References\n",
    "\n",
    "ChatGPT link: https://chatgpt.com/c/67d75288-ea44-800c-97ea-dce10bf18e69\n",
    "\n",
    "Codecademy. (n.d.). Markdown tables. https://www.codecademy.com/resources/docs/markdown/tables\n",
    "\n",
    "Python Dictionary items(). https://www.programiz.com/python-programming/methods/dictionary/items\n",
    "\n",
    "Python shopping cart with only outer while loop. (2023, February 2). Stack Overflow. https://stackoverflow.com/questions/75343373/python-shopping-cart-with-only-outer-while-loop"
   ]
  }
 ],
 "metadata": {
  "kernelspec": {
   "display_name": "Python [conda env:base] *",
   "language": "python",
   "name": "conda-base-py"
  },
  "language_info": {
   "codemirror_mode": {
    "name": "ipython",
    "version": 3
   },
   "file_extension": ".py",
   "mimetype": "text/x-python",
   "name": "python",
   "nbconvert_exporter": "python",
   "pygments_lexer": "ipython3",
   "version": "3.12.7"
  }
 },
 "nbformat": 4,
 "nbformat_minor": 5
}
