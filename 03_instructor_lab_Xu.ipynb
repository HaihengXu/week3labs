{
 "cells": [
  {
   "cell_type": "markdown",
   "id": "df36c9e9-9bed-4b2a-b5d3-119f2ddfd3a7",
   "metadata": {},
   "source": [
    "UM MSBA - BGEN 632 | Haiheng Xu\n",
    "\n",
    "# Week3 Instructor-led Lab: Temperature Conversion\n",
    "\n",
    "This code will convert temperatures for values provided in Clesius, Fahrenheit, and Kelvin.\n",
    "\n",
    "---\n",
    "\n",
    "## Welcom to my temperature conversion\n",
    "\n",
    "### Create variables"
   ]
  },
  {
   "cell_type": "code",
   "execution_count": 2,
   "id": "5314d445-0149-4ea6-9b77-36e362e30cd9",
   "metadata": {},
   "outputs": [],
   "source": [
    "celsius = 0.0\n",
    "fahrenheit = 0.0\n",
    "kelvin = 0.0"
   ]
  },
  {
   "cell_type": "markdown",
   "id": "865f8058-2b09-4c4e-b414-76f34c0b0fac",
   "metadata": {},
   "source": [
    "### Get User Input"
   ]
  },
  {
   "cell_type": "code",
   "execution_count": 4,
   "id": "a178a89a-6e63-487b-84b6-be8eeaf33d83",
   "metadata": {},
   "outputs": [
    {
     "name": "stdin",
     "output_type": "stream",
     "text": [
      "Please provide a value, in Celsius, to convert:\n",
      " 77\n"
     ]
    }
   ],
   "source": [
    "text = float(input(\"Please provide a value, in Celsius, to convert:\\n\"))"
   ]
  },
  {
   "cell_type": "code",
   "execution_count": 5,
   "id": "b36f1a1c-a08e-44ea-8336-47247db58841",
   "metadata": {},
   "outputs": [],
   "source": [
    "celsius = text"
   ]
  },
  {
   "cell_type": "markdown",
   "id": "3ec44d50-2f91-4d8f-8933-bd6ddff915f7",
   "metadata": {},
   "source": [
    "### Convert Celsius to Fahrenheit"
   ]
  },
  {
   "cell_type": "code",
   "execution_count": 7,
   "id": "520bfd4f-ac48-42b7-8c3d-4c9aeaf9f76a",
   "metadata": {},
   "outputs": [],
   "source": [
    "fahrenheit = (9/5) * celsius + 32"
   ]
  },
  {
   "cell_type": "markdown",
   "id": "3a72da65-f09d-4b11-80e7-0a4640fb03a8",
   "metadata": {},
   "source": [
    "### Convert Celsius to Kelvin"
   ]
  },
  {
   "cell_type": "code",
   "execution_count": 9,
   "id": "a5065a58-bb4f-4639-8611-e9f8dcc2409e",
   "metadata": {},
   "outputs": [],
   "source": [
    "kelvin = celsius + 273.15"
   ]
  },
  {
   "cell_type": "markdown",
   "id": "1ac29c16-38d7-42ce-a11f-1c9c4ef1745c",
   "metadata": {},
   "source": [
    "### Display Conversion Results"
   ]
  },
  {
   "cell_type": "code",
   "execution_count": 11,
   "id": "67660f26-d459-4c27-bb15-53f91d324176",
   "metadata": {},
   "outputs": [
    {
     "name": "stdout",
     "output_type": "stream",
     "text": [
      "77.0 degress Celsius is 170.6 degrees Fahrenheit which is 350.15 degrees Kelvin.\n"
     ]
    }
   ],
   "source": [
    "print(f\"{celsius} degress Celsius is {fahrenheit} degrees Fahrenheit which is {kelvin} degrees Kelvin.\")"
   ]
  },
  {
   "cell_type": "markdown",
   "id": "3288baf0-b5bc-4f84-9b01-aeb3c7f71cc6",
   "metadata": {},
   "source": [
    "### Create Additional Variables"
   ]
  },
  {
   "cell_type": "code",
   "execution_count": 13,
   "id": "cecfbf29-f6a4-4e2b-b13f-efe419fb4996",
   "metadata": {},
   "outputs": [],
   "source": [
    "celsius_two = 0.0\n",
    "fahrenheit_two = 0.0\n",
    "kelvin_two = 0.0"
   ]
  },
  {
   "cell_type": "markdown",
   "id": "e93e3dcf-799c-4634-b9a6-e889671c5f7a",
   "metadata": {},
   "source": [
    "### Get User Input"
   ]
  },
  {
   "cell_type": "code",
   "execution_count": 15,
   "id": "6efac1dc-cabf-4aa0-bfac-0f22b069f0e5",
   "metadata": {},
   "outputs": [
    {
     "name": "stdin",
     "output_type": "stream",
     "text": [
      "Please provide a value, in Celsius, to convert:\n",
      " 56\n"
     ]
    }
   ],
   "source": [
    "text2 = float(input(\"Please provide a value, in Celsius, to convert:\\n\"))"
   ]
  },
  {
   "cell_type": "code",
   "execution_count": 16,
   "id": "0143bca7-2bd7-4a40-b8e1-ab91221a40ef",
   "metadata": {},
   "outputs": [],
   "source": [
    "celsius_two = text2"
   ]
  },
  {
   "cell_type": "markdown",
   "id": "00fd265d-f0ff-4d7d-a5d9-1500e2344456",
   "metadata": {},
   "source": [
    "### Convert Celsius to Fahrenheit"
   ]
  },
  {
   "cell_type": "code",
   "execution_count": 18,
   "id": "d07a5c75-8641-4cbd-944f-cc423a9d0bfd",
   "metadata": {},
   "outputs": [],
   "source": [
    "fahrenheit_two = (9/5) * celsius_two + 32"
   ]
  },
  {
   "cell_type": "markdown",
   "id": "80eecc06-59f8-40a6-ba33-6aea78754997",
   "metadata": {},
   "source": [
    "### Convert Celsius to Kelvin"
   ]
  },
  {
   "cell_type": "code",
   "execution_count": 20,
   "id": "bfc8ad77-8528-4e40-a9e5-a8f069af3812",
   "metadata": {},
   "outputs": [],
   "source": [
    "kelvin_two = celsius_two + 273.15"
   ]
  },
  {
   "cell_type": "markdown",
   "id": "290600bd-417c-4bf8-afcd-e53fff82c5da",
   "metadata": {},
   "source": [
    "### Compare Temperatures"
   ]
  },
  {
   "cell_type": "code",
   "execution_count": 22,
   "id": "58e4138e-553a-4586-815a-ef16fee02027",
   "metadata": {},
   "outputs": [
    {
     "name": "stdout",
     "output_type": "stream",
     "text": [
      "The original Celsius value of 77.0 is larger than the new value of 56.0.\n"
     ]
    }
   ],
   "source": [
    "# Celsius\n",
    "if celsius > celsius_two:\n",
    "    print(f\"The original Celsius value of {celsius} is larger than the new value of {celsius_two}.\")\n",
    "elif celsius < celsius_two:\n",
    "    print(f\"The original Celsius value of {celsius} is smaller than the new value of {celsius_two}.\")\n",
    "elif celsius == celsius_two:\n",
    "    print(f\"The original Celsius value of {celsius} equals the new value of {celsius_two}.\")"
   ]
  },
  {
   "cell_type": "markdown",
   "id": "276ec7d2-b1c4-4dea-9a18-5df097b90bde",
   "metadata": {},
   "source": [
    "### Logical Operators"
   ]
  },
  {
   "cell_type": "markdown",
   "id": "957e41ef-bcc0-4257-808c-ffe3e628c863",
   "metadata": {},
   "source": [
    "#### And Statement"
   ]
  },
  {
   "cell_type": "code",
   "execution_count": 25,
   "id": "887d8b92-2d32-4079-b569-df4bb2b82714",
   "metadata": {},
   "outputs": [
    {
     "name": "stdout",
     "output_type": "stream",
     "text": [
      "celsius == celsius_two and fahrenheit > fahrenheit_two\n",
      "Python lies.\n",
      "\n"
     ]
    }
   ],
   "source": [
    "print(f\"celsius == celsius_two and fahrenheit > fahrenheit_two\")\n",
    "if celsius == celsius_two and fahrenheit > fahrenheit_two:\n",
    "    print(\"Python speaks the truth!\\n\")\n",
    "else:\n",
    "    print(\"Python lies.\\n\")"
   ]
  },
  {
   "cell_type": "markdown",
   "id": "8150cf35-29f0-40c9-bbbe-f110624c7bbd",
   "metadata": {},
   "source": [
    "#### Or Statement\n"
   ]
  },
  {
   "cell_type": "code",
   "execution_count": 27,
   "id": "cf8c0da5-b6ac-47c6-94cd-ca7a8e6471e9",
   "metadata": {},
   "outputs": [
    {
     "name": "stdout",
     "output_type": "stream",
     "text": [
      "celsius > celsius_two or kelvin != fahrenheit_kelvin_two\n",
      "Python speaks the truth!\n",
      "\n"
     ]
    }
   ],
   "source": [
    "print(f\"celsius > celsius_two or kelvin != fahrenheit_kelvin_two\")\n",
    "if celsius > celsius_two or kelvin != fahrenheit_kelvin_two:\n",
    "       print(\"Python speaks the truth!\\n\")\n",
    "else:\n",
    "    print(\"Python lies.\\n\") "
   ]
  }
 ],
 "metadata": {
  "kernelspec": {
   "display_name": "Python [conda env:base] *",
   "language": "python",
   "name": "conda-base-py"
  },
  "language_info": {
   "codemirror_mode": {
    "name": "ipython",
    "version": 3
   },
   "file_extension": ".py",
   "mimetype": "text/x-python",
   "name": "python",
   "nbconvert_exporter": "python",
   "pygments_lexer": "ipython3",
   "version": "3.12.7"
  }
 },
 "nbformat": 4,
 "nbformat_minor": 5
}
